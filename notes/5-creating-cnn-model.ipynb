{
 "cells": [
  {
   "cell_type": "markdown",
   "metadata": {},
   "source": [
    "* CNN Model"
   ]
  },
  {
   "cell_type": "markdown",
   "metadata": {},
   "source": [
    "* CNN model is just a sequential model with a bunch of stride two convolutions\n",
    "    * Hasn't spoken about any of this in 8 - 11, so may need to view first set of classes"
   ]
  },
  {
   "cell_type": "markdown",
   "metadata": {},
   "source": [
    "* Filters, and channels "
   ]
  },
  {
   "cell_type": "markdown",
   "metadata": {},
   "source": [
    "* At 1:12, 06_cuda_cnn_hooks, he builds an optimizer"
   ]
  },
  {
   "cell_type": "markdown",
   "metadata": {},
   "source": [
    "* For some reason, the means and SDs are really important "
   ]
  },
  {
   "cell_type": "markdown",
   "metadata": {},
   "source": [
    "* Problem is the first layers, had almost no gradients "
   ]
  },
  {
   "cell_type": "markdown",
   "metadata": {},
   "source": [
    "* Lesson 7, we talk about RNN's a lot "
   ]
  },
  {
   "cell_type": "markdown",
   "metadata": {},
   "source": [
    "* Batchnorm, is tough to handle with RNNs\n",
    "    * https://www.youtube.com/watch?v=HR0lt1hlR6U - 1:54\n",
    "    * Layer Normalization - \n",
    "        * Remove the running averages.  \n",
    "        * Not taking the mean across all of the items in the batch, instead every image has it's own mean.  So we also average over the channels for \n",
    "        * But layer norm is not as good as batch norm, but for rnns it's what we have.\n",
    "        "
   ]
  },
  {
   "cell_type": "code",
   "execution_count": null,
   "metadata": {},
   "outputs": [],
   "source": []
  }
 ],
 "metadata": {
  "kernelspec": {
   "display_name": "Python 3",
   "language": "python",
   "name": "python3"
  },
  "language_info": {
   "codemirror_mode": {
    "name": "ipython",
    "version": 3
   },
   "file_extension": ".py",
   "mimetype": "text/x-python",
   "name": "python",
   "nbconvert_exporter": "python",
   "pygments_lexer": "ipython3",
   "version": "3.7.4"
  }
 },
 "nbformat": 4,
 "nbformat_minor": 4
}
