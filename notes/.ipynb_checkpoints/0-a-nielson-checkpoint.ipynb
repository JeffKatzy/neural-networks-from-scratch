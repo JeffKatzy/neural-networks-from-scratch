{
 "cells": [
  {
   "cell_type": "markdown",
   "metadata": {},
   "source": [
    "### Nielson "
   ]
  },
  {
   "cell_type": "markdown",
   "metadata": {},
   "source": [
    "* Perceptron"
   ]
  },
  {
   "cell_type": "markdown",
   "metadata": {},
   "source": [
    "> Perceptron takes multiple binary inputs and produces a single binary output\n",
    "\n",
    "* To compute the output, we have weights (1, 0), and we determine if zero or one based on if we cross some threshold\n",
    "\n",
    "\n",
    "* output = $\\{ 0  \\sum w_jx_j < threshold$\n",
    "* output = $\\{ 1 \\sum w_jx_j > threshold$"
   ]
  },
  {
   "cell_type": "markdown",
   "metadata": {},
   "source": [
    "It makes decisions by weighing up evidence \n",
    "\n",
    "* For example, whether or not to attend a cheese festival\n",
    "* We could use the perceptron to tell us whether or not to attend"
   ]
  },
  {
   "cell_type": "markdown",
   "metadata": {},
   "source": [
    "### A more complex network"
   ]
  },
  {
   "cell_type": "markdown",
   "metadata": {},
   "source": [
    "And so a complex network of perceptron can make more subtle decisions\n",
    "\n",
    "* So the first layer looks at direct evidence\n",
    "    * Maybe before this imagine each neuron being in control of a different kind of decision\n",
    "* The second layer looks at outputs from this first layer\n",
    "    * Will it be tasty?    -> Will I enjoy it?\n",
    "    * Will it be friendly? -> \n",
    "    * Is there a subway?       -> Will I be bothered getting there?\n",
    "    * Will there be a lot of traffic?"
   ]
  },
  {
   "cell_type": "markdown",
   "metadata": {},
   "source": [
    "### Back to a single perceptron"
   ]
  },
  {
   "cell_type": "markdown",
   "metadata": {},
   "source": [
    "1. Introduce dot product\n",
    "\n",
    "* $w_1x_1 + w_2x_2 + w_3x_3 $\n",
    "\n",
    "* sum(zip(w, x))\n",
    "\n",
    "* $ \\sum w_jx_j$\n",
    "equivalent to \n",
    "\n"
   ]
  },
  {
   "cell_type": "markdown",
   "metadata": {},
   "source": [
    "2. Introduce bias\n",
    "\n",
    "* $w\\cdot x + b $"
   ]
  },
  {
   "cell_type": "markdown",
   "metadata": {},
   "source": [
    "The bias is indicating how easy it is for a perceptron to fire.  "
   ]
  },
  {
   "cell_type": "markdown",
   "metadata": {},
   "source": [
    "### Sigmoid neurons\n",
    "\n",
    "* What we want is that a small change in output brings about a small change in output\n",
    "* But a small change can actually get a perceptron to flip, which would then cause a chain reaction"
   ]
  },
  {
   "cell_type": "markdown",
   "metadata": {},
   "source": [
    "### Perceptrons and logic"
   ]
  },
  {
   "cell_type": "markdown",
   "metadata": {},
   "source": [
    "### Overall"
   ]
  },
  {
   "cell_type": "markdown",
   "metadata": {},
   "source": [
    "* We'll have algorithms that automatically tune the weights and biases of a network of neurons"
   ]
  },
  {
   "cell_type": "markdown",
   "metadata": {},
   "source": []
  }
 ],
 "metadata": {
  "kernelspec": {
   "display_name": "Python 3",
   "language": "python",
   "name": "python3"
  },
  "language_info": {
   "codemirror_mode": {
    "name": "ipython",
    "version": 3
   },
   "file_extension": ".py",
   "mimetype": "text/x-python",
   "name": "python",
   "nbconvert_exporter": "python",
   "pygments_lexer": "ipython3",
   "version": "3.7.4"
  }
 },
 "nbformat": 4,
 "nbformat_minor": 4
}
